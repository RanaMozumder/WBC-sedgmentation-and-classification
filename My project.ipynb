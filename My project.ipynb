{
 "cells": [
  {
   "cell_type": "markdown",
   "id": "asian-fever",
   "metadata": {},
   "source": [
    "# Loading Necessary Libraries"
   ]
  },
  {
   "cell_type": "code",
   "execution_count": 28,
   "id": "macro-nickel",
   "metadata": {},
   "outputs": [],
   "source": [
    "from sklearn.preprocessing import LabelBinarizer\n",
    "from sklearn.model_selection import train_test_split\n",
    "from sklearn.metrics import classification_report\n",
    "from keras.optimizers import SGD\n",
    "import matplotlib.pyplot as plt\n",
    "import numpy as np\n",
    "import argparse\n",
    "from imutils import paths\n",
    "import numpy as np\n",
    "import cv2\n",
    "import os\n",
    "from keras.preprocessing.image import img_to_array\n",
    "from keras.models import Sequential\n",
    "from keras.layers.convolutional import Conv2D\n",
    "from keras.layers.core import Activation\n",
    "from keras.layers.core import Flatten\n",
    "from keras.layers.core import Dense, Dropout\n",
    "from keras import backend as K\n",
    "from keras.layers import MaxPooling2D"
   ]
  },
  {
   "cell_type": "markdown",
   "id": "wrong-reproduction",
   "metadata": {},
   "source": [
    "# Function to find greatest contour"
   ]
  },
  {
   "cell_type": "code",
   "execution_count": 29,
   "id": "permanent-comfort",
   "metadata": {},
   "outputs": [],
   "source": [
    "def find_biggest_contour(image):\n",
    "    image = image.copy()\n",
    "    contours, hierarchy = cv2.findContours(image, cv2.RETR_LIST, cv2.CHAIN_APPROX_SIMPLE)\n",
    "    biggest_contour = max(contours, key=cv2.contourArea)\n",
    "    mask = np.zeros(image.shape, np.uint8)\n",
    "    cv2.drawContours(mask, [biggest_contour], -1, 255, -1)\n",
    "    return biggest_contour, mask\n",
    "def overlay_mask(mask, image):\n",
    "    rgb_mask = cv2.cvtColor(mask, cv2.COLOR_GRAY2RGB)\n",
    "    img = cv2.addWeighted(rgb_mask, 0.5, image, 0.5, 0)"
   ]
  },
  {
   "cell_type": "code",
   "execution_count": 30,
   "id": "ultimate-israel",
   "metadata": {},
   "outputs": [
    {
     "name": "stdout",
     "output_type": "stream",
     "text": [
      "preprocessor OpenCV(4.5.4-dev) D:\\a\\opencv-python\\opencv-python\\opencv\\modules\\imgproc\\src\\resize.cpp:4051: error: (-215:Assertion failed) !ssize.empty() in function 'cv::resize'\n",
      "\n"
     ]
    }
   ],
   "source": [
    "#reading image paths\n",
    "image_paths = list(paths.list_images(\"CNN/\"))\n",
    "#print(image_paths)\n",
    "\n",
    "#creating empty lists for storing image data and corresponding labels\n",
    "data = []\n",
    "labels = []\n",
    "\n",
    "for (i, image_path) in enumerate(image_paths):\n",
    "    image = cv2.imread(image_path) #reading image\n",
    "    \n",
    "    try:\n",
    "        label = image_path.split(os.path.sep)[-2] #reading the label\n",
    "\n",
    "        image_blur = cv2.GaussianBlur(image, (7, 7), 0) #blurring the image\n",
    "        \n",
    "        image_blur_hsv = cv2.cvtColor(image_blur, cv2.COLOR_RGB2HSV) #converting the image into HSV color space\n",
    "        \n",
    "        min_red = np.array([80, 60, 140])\n",
    "        max_red = np.array([255, 255, 255])\n",
    "        image_red1 = cv2.inRange(image_blur_hsv, min_red, max_red) #creating a red image with thresholds\n",
    "        \n",
    "        big_contour, mask = find_biggest_contour(image_red1) #finding the greatest contour\n",
    "        \n",
    "        (x, y), radius = cv2.minEnclosingCircle(big_contour) #taking the center and radius of a circle enclosing the biggest contour\n",
    "        center = (int(x), int(y)) \n",
    "        radius = int(radius)\n",
    "        \n",
    "        imCircle = image.copy()\n",
    "        cv2.circle(imCircle, center, radius, (0, 255, 0), 1) #drawing the circle around the big contour\n",
    "        \n",
    "        #code to crop the image around the detected nucleus\n",
    "        height, width, channels = imCircle.shape\n",
    "        border = [0, 0, 0, 0]\n",
    "        if center[0] + radius > width:\n",
    "            extera = (center[0] + radius) - width\n",
    "            border[3] = extera + 1\n",
    "\n",
    "        if (center[0] - radius < 0):\n",
    "            extera = width - (center[0] + radius)\n",
    "            border[2] = extera + 1\n",
    "\n",
    "        if center[1] + radius > height:\n",
    "            extera = (center[1] + radius) - height\n",
    "            border[1] = extera + 1\n",
    "\n",
    "        if center[1] + radius < 0:\n",
    "            extera = height - (center[1] + radius)\n",
    "            border[0] = extera + 1\n",
    "\n",
    "        y = center[1] - radius\n",
    "        if y < 0:\n",
    "            y = 0\n",
    "        y2 = center[1] + radius\n",
    "        x = center[0] - radius\n",
    "        if x < 0:\n",
    "            x = 0\n",
    "\n",
    "        x2 = center[0] + radius\n",
    "\n",
    "        cropped_image = image[y:y2, x:x2]\n",
    "        \n",
    "        image = cv2.resize(cropped_image, (50,50), interpolation = cv2.INTER_AREA) #taking a 50X50 cropped image\n",
    "        image=img_to_array(image, data_format=None)\n",
    "        \n",
    "        data.append(image) #storing the image data in the list\n",
    "        labels.append(label) #storing the labels in the list\n",
    "        \n",
    "    except Exception as a:\n",
    "            print(\"preprocessor\", a)"
   ]
  },
  {
   "cell_type": "code",
   "execution_count": 31,
   "id": "touched-airfare",
   "metadata": {},
   "outputs": [],
   "source": [
    "(data, labels) = np.array(data), np.array(labels)"
   ]
  },
  {
   "cell_type": "code",
   "execution_count": 32,
   "id": "communist-alliance",
   "metadata": {},
   "outputs": [
    {
     "name": "stdout",
     "output_type": "stream",
     "text": [
      "(12514,)\n"
     ]
    }
   ],
   "source": [
    "print(labels.shape)"
   ]
  },
  {
   "cell_type": "code",
   "execution_count": 33,
   "id": "relevant-taiwan",
   "metadata": {},
   "outputs": [
    {
     "name": "stdout",
     "output_type": "stream",
     "text": [
      "(12514, 50, 50, 3)\n"
     ]
    }
   ],
   "source": [
    "print(data.shape)"
   ]
  },
  {
   "cell_type": "code",
   "execution_count": 34,
   "id": "similar-movie",
   "metadata": {},
   "outputs": [
    {
     "name": "stdout",
     "output_type": "stream",
     "text": [
      "E\n"
     ]
    }
   ],
   "source": [
    "print(label[1])"
   ]
  },
  {
   "cell_type": "code",
   "execution_count": 35,
   "id": "prerequisite-updating",
   "metadata": {},
   "outputs": [],
   "source": [
    "data = data.astype(\"float\") / 255.0\n",
    "(train_x, test_x, train_y, test_y) = train_test_split(data, labels, test_size=0.25, random_state=42)\n",
    "train_y = LabelBinarizer().fit_transform(train_y)\n",
    "test_y = LabelBinarizer().fit_transform(test_y)"
   ]
  },
  {
   "cell_type": "code",
   "execution_count": 36,
   "id": "uniform-somerset",
   "metadata": {},
   "outputs": [
    {
     "name": "stdout",
     "output_type": "stream",
     "text": [
      "(9385, 50, 50, 3)\n",
      "(9385, 4)\n",
      "(3129, 50, 50, 3)\n",
      "(3129, 4)\n"
     ]
    }
   ],
   "source": [
    "print(train_x.shape)\n",
    "print(train_y.shape)\n",
    "print(test_x.shape)\n",
    "print(test_y.shape)"
   ]
  },
  {
   "cell_type": "code",
   "execution_count": 37,
   "id": "mineral-philosophy",
   "metadata": {},
   "outputs": [
    {
     "name": "stdout",
     "output_type": "stream",
     "text": [
      "[INFO] compiling model...\n"
     ]
    }
   ],
   "source": [
    "print(\"[INFO] compiling model...\")\n",
    "opt = SGD(lr=0.025)\n",
    "classes=4\n",
    "\n",
    "model = Sequential()\n",
    "input_shape = (50, 50, 3)\n",
    "if K.image_data_format() == \"channels_first\":\n",
    "    input_shape = (3, 50, 50)\n",
    "# model.add(Dropout(0.2,input_shape=inputShape))\n",
    "model.add(Conv2D(size, (3, 3), padding=\"same\", input_shape=input_shape))\n",
    "model.add(Activation(\"relu\"))\n",
    "model.add(MaxPooling2D(pool_size=(3, 3)))\n",
    "\n",
    "model.add(Conv2D(size, (3, 3), padding=\"same\", input_shape=input_shape))\n",
    "model.add(Activation(\"relu\"))\n",
    "model.add(MaxPooling2D(pool_size=(3, 3)))\n",
    "\n",
    "model.add(Conv2D(size, (3, 3), padding=\"same\", input_shape=input_shape))\n",
    "model.add(Activation(\"relu\"))\n",
    "model.add(MaxPooling2D(pool_size=(3, 3)))\n",
    "model.add(Dropout(0.5))\n",
    "\n",
    "model.add(Conv2D(size, (3, 3), padding=\"same\", input_shape=input_shape))\n",
    "model.add(Activation(\"relu\"))\n",
    "\n",
    "model.add(Flatten())\n",
    "model.add(Activation(\"relu\"))\n",
    "\n",
    "model.add(Dense(classes))\n",
    "model.add(Activation(\"softmax\"))\n",
    "\n",
    "model.compile(loss=\"categorical_crossentropy\", optimizer=opt, metrics=[\"accuracy\"])\n"
   ]
  },
  {
   "cell_type": "code",
   "execution_count": 38,
   "id": "occupational-discussion",
   "metadata": {},
   "outputs": [
    {
     "name": "stdout",
     "output_type": "stream",
     "text": [
      "Model: \"sequential_1\"\n",
      "_________________________________________________________________\n",
      "Layer (type)                 Output Shape              Param #   \n",
      "=================================================================\n",
      "conv2d_4 (Conv2D)            (None, 50, 50, 50)        1400      \n",
      "_________________________________________________________________\n",
      "activation_6 (Activation)    (None, 50, 50, 50)        0         \n",
      "_________________________________________________________________\n",
      "max_pooling2d_3 (MaxPooling2 (None, 16, 16, 50)        0         \n",
      "_________________________________________________________________\n",
      "conv2d_5 (Conv2D)            (None, 16, 16, 50)        22550     \n",
      "_________________________________________________________________\n",
      "activation_7 (Activation)    (None, 16, 16, 50)        0         \n",
      "_________________________________________________________________\n",
      "max_pooling2d_4 (MaxPooling2 (None, 5, 5, 50)          0         \n",
      "_________________________________________________________________\n",
      "conv2d_6 (Conv2D)            (None, 5, 5, 50)          22550     \n",
      "_________________________________________________________________\n",
      "activation_8 (Activation)    (None, 5, 5, 50)          0         \n",
      "_________________________________________________________________\n",
      "max_pooling2d_5 (MaxPooling2 (None, 1, 1, 50)          0         \n",
      "_________________________________________________________________\n",
      "dropout_1 (Dropout)          (None, 1, 1, 50)          0         \n",
      "_________________________________________________________________\n",
      "conv2d_7 (Conv2D)            (None, 1, 1, 50)          22550     \n",
      "_________________________________________________________________\n",
      "activation_9 (Activation)    (None, 1, 1, 50)          0         \n",
      "_________________________________________________________________\n",
      "flatten_1 (Flatten)          (None, 50)                0         \n",
      "_________________________________________________________________\n",
      "activation_10 (Activation)   (None, 50)                0         \n",
      "_________________________________________________________________\n",
      "dense_1 (Dense)              (None, 4)                 204       \n",
      "_________________________________________________________________\n",
      "activation_11 (Activation)   (None, 4)                 0         \n",
      "=================================================================\n",
      "Total params: 69,254\n",
      "Trainable params: 69,254\n",
      "Non-trainable params: 0\n",
      "_________________________________________________________________\n",
      "None\n"
     ]
    }
   ],
   "source": [
    "print(model.summary())"
   ]
  },
  {
   "cell_type": "code",
   "execution_count": 39,
   "id": "cognitive-resort",
   "metadata": {},
   "outputs": [
    {
     "name": "stdout",
     "output_type": "stream",
     "text": [
      "[INFO] training network...\n",
      "Epoch 1/100\n",
      "169/169 [==============================] - 25s 151ms/step - loss: 1.3852 - accuracy: 0.2503 - val_loss: 1.3809 - val_accuracy: 0.3578\n",
      "Epoch 2/100\n",
      "169/169 [==============================] - 24s 142ms/step - loss: 1.3785 - accuracy: 0.3016 - val_loss: 1.3696 - val_accuracy: 0.3876\n",
      "Epoch 3/100\n",
      "169/169 [==============================] - 22s 132ms/step - loss: 1.3591 - accuracy: 0.3584 - val_loss: 1.3192 - val_accuracy: 0.4803\n",
      "Epoch 4/100\n",
      "169/169 [==============================] - 22s 133ms/step - loss: 1.2626 - accuracy: 0.3983 - val_loss: 1.1081 - val_accuracy: 0.4846\n",
      "Epoch 5/100\n",
      "169/169 [==============================] - 27s 161ms/step - loss: 1.1312 - accuracy: 0.4531 - val_loss: 0.9528 - val_accuracy: 0.5687\n",
      "Epoch 6/100\n",
      "169/169 [==============================] - 31s 186ms/step - loss: 1.0364 - accuracy: 0.4890 - val_loss: 1.0064 - val_accuracy: 0.4803\n",
      "Epoch 7/100\n",
      "169/169 [==============================] - 29s 171ms/step - loss: 0.9780 - accuracy: 0.5315 - val_loss: 1.0476 - val_accuracy: 0.4622\n",
      "Epoch 8/100\n",
      "169/169 [==============================] - 27s 159ms/step - loss: 0.9478 - accuracy: 0.5593 - val_loss: 0.8598 - val_accuracy: 0.5772\n",
      "Epoch 9/100\n",
      "169/169 [==============================] - 23s 135ms/step - loss: 0.9170 - accuracy: 0.5669 - val_loss: 0.9369 - val_accuracy: 0.5059\n",
      "Epoch 10/100\n",
      "169/169 [==============================] - 26s 155ms/step - loss: 0.8845 - accuracy: 0.5918 - val_loss: 0.7358 - val_accuracy: 0.6731\n",
      "Epoch 11/100\n",
      "169/169 [==============================] - 27s 159ms/step - loss: 0.8479 - accuracy: 0.6117 - val_loss: 0.7171 - val_accuracy: 0.6592\n",
      "Epoch 12/100\n",
      "169/169 [==============================] - 27s 159ms/step - loss: 0.8064 - accuracy: 0.6330 - val_loss: 0.6328 - val_accuracy: 0.6986\n",
      "Epoch 13/100\n",
      "169/169 [==============================] - 27s 158ms/step - loss: 0.7687 - accuracy: 0.6460 - val_loss: 0.7308 - val_accuracy: 0.6581\n",
      "Epoch 14/100\n",
      "169/169 [==============================] - 28s 165ms/step - loss: 0.7542 - accuracy: 0.6685 - val_loss: 0.5971 - val_accuracy: 0.7593\n",
      "Epoch 15/100\n",
      "169/169 [==============================] - 24s 142ms/step - loss: 0.7124 - accuracy: 0.6847 - val_loss: 0.5375 - val_accuracy: 0.7380\n",
      "Epoch 16/100\n",
      "169/169 [==============================] - 26s 155ms/step - loss: 0.6923 - accuracy: 0.6977 - val_loss: 0.5249 - val_accuracy: 0.7966\n",
      "Epoch 17/100\n",
      "169/169 [==============================] - 26s 156ms/step - loss: 0.7095 - accuracy: 0.6948 - val_loss: 0.5338 - val_accuracy: 0.7913\n",
      "Epoch 18/100\n",
      "169/169 [==============================] - 27s 162ms/step - loss: 0.7195 - accuracy: 0.6894 - val_loss: 0.5329 - val_accuracy: 0.7732\n",
      "Epoch 19/100\n",
      "169/169 [==============================] - 27s 157ms/step - loss: 0.6674 - accuracy: 0.7108 - val_loss: 0.5693 - val_accuracy: 0.7540\n",
      "Epoch 20/100\n",
      "169/169 [==============================] - 27s 159ms/step - loss: 0.6231 - accuracy: 0.7357 - val_loss: 0.5792 - val_accuracy: 0.7359\n",
      "Epoch 21/100\n",
      "169/169 [==============================] - 29s 170ms/step - loss: 0.6128 - accuracy: 0.7409 - val_loss: 0.6086 - val_accuracy: 0.7338\n",
      "Epoch 22/100\n",
      "169/169 [==============================] - 21s 126ms/step - loss: 0.5879 - accuracy: 0.7586 - val_loss: 0.3846 - val_accuracy: 0.8381\n",
      "Epoch 23/100\n",
      "169/169 [==============================] - 28s 164ms/step - loss: 0.5120 - accuracy: 0.7830 - val_loss: 0.5525 - val_accuracy: 0.7593\n",
      "Epoch 24/100\n",
      "169/169 [==============================] - 25s 148ms/step - loss: 0.5617 - accuracy: 0.7666 - val_loss: 0.4592 - val_accuracy: 0.8083\n",
      "Epoch 25/100\n",
      "169/169 [==============================] - 27s 162ms/step - loss: 0.5110 - accuracy: 0.7911 - val_loss: 0.3421 - val_accuracy: 0.8679\n",
      "Epoch 26/100\n",
      "169/169 [==============================] - 27s 162ms/step - loss: 0.4504 - accuracy: 0.8192 - val_loss: 0.3704 - val_accuracy: 0.8413\n",
      "Epoch 27/100\n",
      "169/169 [==============================] - 28s 163ms/step - loss: 0.4498 - accuracy: 0.8200 - val_loss: 0.3126 - val_accuracy: 0.8722\n",
      "Epoch 28/100\n",
      "169/169 [==============================] - 27s 158ms/step - loss: 0.4414 - accuracy: 0.8213 - val_loss: 0.3046 - val_accuracy: 0.8797\n",
      "Epoch 29/100\n",
      "169/169 [==============================] - 28s 164ms/step - loss: 0.4050 - accuracy: 0.8396 - val_loss: 0.2714 - val_accuracy: 0.8924\n",
      "Epoch 30/100\n",
      "169/169 [==============================] - 28s 167ms/step - loss: 0.4147 - accuracy: 0.8342 - val_loss: 0.3341 - val_accuracy: 0.8594\n",
      "Epoch 31/100\n",
      "169/169 [==============================] - 29s 170ms/step - loss: 0.4211 - accuracy: 0.8313 - val_loss: 0.2928 - val_accuracy: 0.8765\n",
      "Epoch 32/100\n",
      "169/169 [==============================] - 27s 161ms/step - loss: 0.3830 - accuracy: 0.8426 - val_loss: 0.2697 - val_accuracy: 0.8871\n",
      "Epoch 33/100\n",
      "169/169 [==============================] - 22s 132ms/step - loss: 0.4094 - accuracy: 0.8294 - val_loss: 0.2646 - val_accuracy: 0.8882\n",
      "Epoch 34/100\n",
      "169/169 [==============================] - 28s 166ms/step - loss: 0.3862 - accuracy: 0.8464 - val_loss: 0.4385 - val_accuracy: 0.8158\n",
      "Epoch 35/100\n",
      "169/169 [==============================] - 28s 163ms/step - loss: 0.3899 - accuracy: 0.8437 - val_loss: 0.2825 - val_accuracy: 0.8924\n",
      "Epoch 36/100\n",
      "169/169 [==============================] - 28s 165ms/step - loss: 0.3677 - accuracy: 0.8524 - val_loss: 0.2492 - val_accuracy: 0.8935\n",
      "Epoch 37/100\n",
      "169/169 [==============================] - 26s 153ms/step - loss: 0.3679 - accuracy: 0.8481 - val_loss: 0.2672 - val_accuracy: 0.8882\n",
      "Epoch 38/100\n",
      "169/169 [==============================] - 23s 136ms/step - loss: 0.3345 - accuracy: 0.8631 - val_loss: 0.2312 - val_accuracy: 0.9063\n",
      "Epoch 39/100\n",
      "169/169 [==============================] - 30s 175ms/step - loss: 0.3358 - accuracy: 0.8627 - val_loss: 0.3403 - val_accuracy: 0.8498\n",
      "Epoch 40/100\n",
      "169/169 [==============================] - 25s 146ms/step - loss: 0.3220 - accuracy: 0.8709 - val_loss: 0.2445 - val_accuracy: 0.8999\n",
      "Epoch 41/100\n",
      "169/169 [==============================] - 23s 137ms/step - loss: 0.3388 - accuracy: 0.8655 - val_loss: 0.2718 - val_accuracy: 0.8978\n",
      "Epoch 42/100\n",
      "169/169 [==============================] - 22s 130ms/step - loss: 0.3313 - accuracy: 0.8698 - val_loss: 0.2393 - val_accuracy: 0.8988\n",
      "Epoch 43/100\n",
      "169/169 [==============================] - 22s 130ms/step - loss: 0.3117 - accuracy: 0.8788 - val_loss: 0.2306 - val_accuracy: 0.9042\n",
      "Epoch 44/100\n",
      "169/169 [==============================] - 24s 143ms/step - loss: 0.3055 - accuracy: 0.8776 - val_loss: 0.2264 - val_accuracy: 0.9052\n",
      "Epoch 45/100\n",
      "169/169 [==============================] - 27s 158ms/step - loss: 0.2968 - accuracy: 0.8764 - val_loss: 0.2693 - val_accuracy: 0.8754\n",
      "Epoch 46/100\n",
      "169/169 [==============================] - 22s 130ms/step - loss: 0.3109 - accuracy: 0.8760 - val_loss: 0.2099 - val_accuracy: 0.9063\n",
      "Epoch 47/100\n",
      "169/169 [==============================] - 22s 127ms/step - loss: 0.3016 - accuracy: 0.8778 - val_loss: 0.3481 - val_accuracy: 0.8530\n",
      "Epoch 48/100\n",
      "169/169 [==============================] - 22s 128ms/step - loss: 0.2856 - accuracy: 0.8865 - val_loss: 0.3493 - val_accuracy: 0.8477\n",
      "Epoch 49/100\n",
      "169/169 [==============================] - 23s 137ms/step - loss: 0.3086 - accuracy: 0.8724 - val_loss: 0.2135 - val_accuracy: 0.9084\n",
      "Epoch 50/100\n",
      "169/169 [==============================] - 22s 132ms/step - loss: 0.2852 - accuracy: 0.8833 - val_loss: 0.2214 - val_accuracy: 0.9073\n",
      "Epoch 51/100\n",
      "169/169 [==============================] - 22s 131ms/step - loss: 0.2757 - accuracy: 0.8901 - val_loss: 0.2080 - val_accuracy: 0.9084\n",
      "Epoch 52/100\n",
      "169/169 [==============================] - 22s 132ms/step - loss: 0.2617 - accuracy: 0.8938 - val_loss: 0.1958 - val_accuracy: 0.9169\n",
      "Epoch 53/100\n",
      "169/169 [==============================] - 22s 128ms/step - loss: 0.2754 - accuracy: 0.8888 - val_loss: 0.3335 - val_accuracy: 0.8658\n",
      "Epoch 54/100\n",
      "169/169 [==============================] - 22s 129ms/step - loss: 0.2619 - accuracy: 0.8914 - val_loss: 0.2672 - val_accuracy: 0.8850\n",
      "Epoch 55/100\n",
      "169/169 [==============================] - 22s 128ms/step - loss: 0.2540 - accuracy: 0.8975 - val_loss: 0.2018 - val_accuracy: 0.9116\n",
      "Epoch 56/100\n"
     ]
    },
    {
     "name": "stdout",
     "output_type": "stream",
     "text": [
      "169/169 [==============================] - 22s 133ms/step - loss: 0.2663 - accuracy: 0.8933 - val_loss: 0.2001 - val_accuracy: 0.9169\n",
      "Epoch 57/100\n",
      "169/169 [==============================] - 22s 129ms/step - loss: 0.2580 - accuracy: 0.8960 - val_loss: 0.2113 - val_accuracy: 0.9233\n",
      "Epoch 58/100\n",
      "169/169 [==============================] - 22s 131ms/step - loss: 0.2532 - accuracy: 0.8995 - val_loss: 0.1947 - val_accuracy: 0.9169\n",
      "Epoch 59/100\n",
      "169/169 [==============================] - 22s 130ms/step - loss: 0.2629 - accuracy: 0.8970 - val_loss: 0.2172 - val_accuracy: 0.9042\n",
      "Epoch 60/100\n",
      "169/169 [==============================] - 22s 130ms/step - loss: 0.2509 - accuracy: 0.8975 - val_loss: 0.1778 - val_accuracy: 0.9233\n",
      "Epoch 61/100\n",
      "169/169 [==============================] - 22s 130ms/step - loss: 0.2399 - accuracy: 0.9026 - val_loss: 0.2032 - val_accuracy: 0.9137\n",
      "Epoch 62/100\n",
      "169/169 [==============================] - 22s 131ms/step - loss: 0.2177 - accuracy: 0.9123 - val_loss: 0.1820 - val_accuracy: 0.9180\n",
      "Epoch 63/100\n",
      "169/169 [==============================] - 22s 132ms/step - loss: 0.2544 - accuracy: 0.9001 - val_loss: 0.1941 - val_accuracy: 0.9201\n",
      "Epoch 64/100\n",
      "169/169 [==============================] - 23s 133ms/step - loss: 0.2236 - accuracy: 0.9127 - val_loss: 0.2930 - val_accuracy: 0.8679\n",
      "Epoch 65/100\n",
      "169/169 [==============================] - 22s 130ms/step - loss: 0.2318 - accuracy: 0.9113 - val_loss: 0.2633 - val_accuracy: 0.8797\n",
      "Epoch 66/100\n",
      "169/169 [==============================] - 22s 132ms/step - loss: 0.2384 - accuracy: 0.9010 - val_loss: 0.1866 - val_accuracy: 0.9159\n",
      "Epoch 67/100\n",
      "169/169 [==============================] - 22s 130ms/step - loss: 0.2416 - accuracy: 0.9053 - val_loss: 0.1643 - val_accuracy: 0.9233\n",
      "Epoch 68/100\n",
      "169/169 [==============================] - 22s 130ms/step - loss: 0.2306 - accuracy: 0.9110 - val_loss: 0.2794 - val_accuracy: 0.8839\n",
      "Epoch 69/100\n",
      "169/169 [==============================] - 22s 130ms/step - loss: 0.2438 - accuracy: 0.9018 - val_loss: 0.2853 - val_accuracy: 0.8733\n",
      "Epoch 70/100\n",
      "169/169 [==============================] - 23s 135ms/step - loss: 0.2098 - accuracy: 0.9112 - val_loss: 0.1776 - val_accuracy: 0.9212\n",
      "Epoch 71/100\n",
      "169/169 [==============================] - 22s 132ms/step - loss: 0.2121 - accuracy: 0.9185 - val_loss: 0.1957 - val_accuracy: 0.9042\n",
      "Epoch 72/100\n",
      "169/169 [==============================] - 23s 133ms/step - loss: 0.1995 - accuracy: 0.9194 - val_loss: 0.1942 - val_accuracy: 0.9116\n",
      "Epoch 73/100\n",
      "169/169 [==============================] - 22s 131ms/step - loss: 0.2011 - accuracy: 0.9208 - val_loss: 0.2127 - val_accuracy: 0.9042\n",
      "Epoch 74/100\n",
      "169/169 [==============================] - 24s 144ms/step - loss: 0.2086 - accuracy: 0.9136 - val_loss: 0.1624 - val_accuracy: 0.9297\n",
      "Epoch 75/100\n",
      "169/169 [==============================] - 22s 133ms/step - loss: 0.1995 - accuracy: 0.9239 - val_loss: 0.2140 - val_accuracy: 0.9180\n",
      "Epoch 76/100\n",
      "169/169 [==============================] - 24s 142ms/step - loss: 0.2093 - accuracy: 0.9176 - val_loss: 0.2793 - val_accuracy: 0.8743\n",
      "Epoch 77/100\n",
      "169/169 [==============================] - 26s 153ms/step - loss: 0.1939 - accuracy: 0.9234 - val_loss: 0.1600 - val_accuracy: 0.9286\n",
      "Epoch 78/100\n",
      "169/169 [==============================] - 24s 145ms/step - loss: 0.2079 - accuracy: 0.9158 - val_loss: 0.1809 - val_accuracy: 0.9212\n",
      "Epoch 79/100\n",
      "169/169 [==============================] - 23s 133ms/step - loss: 0.1937 - accuracy: 0.9264 - val_loss: 0.1885 - val_accuracy: 0.9148\n",
      "Epoch 80/100\n",
      "169/169 [==============================] - 23s 139ms/step - loss: 0.1842 - accuracy: 0.9245 - val_loss: 0.1790 - val_accuracy: 0.9180\n",
      "Epoch 81/100\n",
      "169/169 [==============================] - 23s 139ms/step - loss: 0.1912 - accuracy: 0.9254 - val_loss: 0.1614 - val_accuracy: 0.9318\n",
      "Epoch 82/100\n",
      "169/169 [==============================] - 23s 137ms/step - loss: 0.1919 - accuracy: 0.9227 - val_loss: 0.1766 - val_accuracy: 0.9276\n",
      "Epoch 83/100\n",
      "169/169 [==============================] - 24s 143ms/step - loss: 0.1891 - accuracy: 0.9259 - val_loss: 0.1607 - val_accuracy: 0.9297\n",
      "Epoch 84/100\n",
      "169/169 [==============================] - 26s 156ms/step - loss: 0.2077 - accuracy: 0.9195 - val_loss: 0.1603 - val_accuracy: 0.9286\n",
      "Epoch 85/100\n",
      "169/169 [==============================] - 24s 144ms/step - loss: 0.1986 - accuracy: 0.9220 - val_loss: 0.1788 - val_accuracy: 0.9223\n",
      "Epoch 86/100\n",
      "169/169 [==============================] - 23s 135ms/step - loss: 0.1867 - accuracy: 0.9234 - val_loss: 0.1696 - val_accuracy: 0.9265\n",
      "Epoch 87/100\n",
      "169/169 [==============================] - 23s 135ms/step - loss: 0.1836 - accuracy: 0.9235 - val_loss: 0.1521 - val_accuracy: 0.9308\n",
      "Epoch 88/100\n",
      "169/169 [==============================] - 24s 144ms/step - loss: 0.1699 - accuracy: 0.9339 - val_loss: 0.1501 - val_accuracy: 0.9382\n",
      "Epoch 89/100\n",
      "169/169 [==============================] - 25s 148ms/step - loss: 0.1726 - accuracy: 0.9296 - val_loss: 0.1638 - val_accuracy: 0.9286\n",
      "Epoch 90/100\n",
      "169/169 [==============================] - 26s 153ms/step - loss: 0.2036 - accuracy: 0.9200 - val_loss: 0.1515 - val_accuracy: 0.9329\n",
      "Epoch 91/100\n",
      "169/169 [==============================] - 25s 148ms/step - loss: 0.1741 - accuracy: 0.9286 - val_loss: 0.1705 - val_accuracy: 0.9255\n",
      "Epoch 92/100\n",
      "169/169 [==============================] - 22s 129ms/step - loss: 0.1819 - accuracy: 0.9280 - val_loss: 0.1708 - val_accuracy: 0.9297\n",
      "Epoch 93/100\n",
      "169/169 [==============================] - 22s 130ms/step - loss: 0.1578 - accuracy: 0.9374 - val_loss: 0.1524 - val_accuracy: 0.9425\n",
      "Epoch 94/100\n",
      "169/169 [==============================] - 22s 132ms/step - loss: 0.1775 - accuracy: 0.9292 - val_loss: 0.1535 - val_accuracy: 0.9350\n",
      "Epoch 95/100\n",
      "169/169 [==============================] - 24s 141ms/step - loss: 0.1989 - accuracy: 0.9277 - val_loss: 0.1578 - val_accuracy: 0.9329\n",
      "Epoch 96/100\n",
      "169/169 [==============================] - 23s 137ms/step - loss: 0.1901 - accuracy: 0.9258 - val_loss: 0.1471 - val_accuracy: 0.9457\n",
      "Epoch 97/100\n",
      "169/169 [==============================] - 22s 127ms/step - loss: 0.1621 - accuracy: 0.9357 - val_loss: 0.2498 - val_accuracy: 0.8892\n",
      "Epoch 98/100\n",
      "169/169 [==============================] - 22s 128ms/step - loss: 0.1595 - accuracy: 0.9383 - val_loss: 0.1609 - val_accuracy: 0.9286\n",
      "Epoch 99/100\n",
      "169/169 [==============================] - 23s 135ms/step - loss: 0.1464 - accuracy: 0.9428 - val_loss: 0.1663 - val_accuracy: 0.9425\n",
      "Epoch 100/100\n",
      "169/169 [==============================] - 22s 131ms/step - loss: 0.1845 - accuracy: 0.9307 - val_loss: 0.1530 - val_accuracy: 0.9329\n"
     ]
    }
   ],
   "source": [
    "print(\"[INFO] training network...\")\n",
    "h = model.fit(train_x, train_y, validation_split=0.1, batch_size=50, epochs=100, verbose=1)"
   ]
  },
  {
   "cell_type": "code",
   "execution_count": 19,
   "id": "exact-karaoke",
   "metadata": {},
   "outputs": [
    {
     "name": "stdout",
     "output_type": "stream",
     "text": [
      "[INFO] evaluating network...\n",
      "              precision    recall  f1-score   support\n",
      "\n",
      "  EOSINOPHIL       0.86      0.97      0.91       804\n",
      "  LYMPHOCYTE       0.99      1.00      0.99       769\n",
      "    MONOCYTE       0.99      0.99      0.99       797\n",
      "  NEUTROPHIL       0.96      0.83      0.89       759\n",
      "\n",
      "    accuracy                           0.95      3129\n",
      "   macro avg       0.95      0.95      0.95      3129\n",
      "weighted avg       0.95      0.95      0.95      3129\n",
      "\n"
     ]
    }
   ],
   "source": [
    "print(\"[INFO] evaluating network...\")\n",
    "predictions = model.predict(test_x, batch_size=size)\n",
    "print(classification_report(test_y.argmax(axis=1), predictions.argmax(axis=1), \n",
    "                            target_names=[\"EOSINOPHIL\", \"LYMPHOCYTE\", \"MONOCYTE\", \"NEUTROPHIL\"]))\n",
    "\n"
   ]
  },
  {
   "cell_type": "code",
   "execution_count": 21,
   "id": "respiratory-certificate",
   "metadata": {},
   "outputs": [
    {
     "data": {
      "image/png": "[encoded data removed]",
      "text/plain": [
       "<Figure size 432x288 with 1 Axes>"
      ]
     },
     "metadata": {},
     "output_type": "display_data"
    }
   ],
   "source": [
    "plt.style.use(\"ggplot\")\n",
    "plt.figure()\n",
    "plt.plot(np.arange(0, ep), h.history[\"loss\"], label=\"train_loss\")\n",
    "plt.plot(np.arange(0, ep), h.history[\"val_loss\"], label=\"val_loss\")\n",
    "plt.title(\"Loss Graphs\")\n",
    "plt.xlabel(\"Epoch #\")\n",
    "plt.ylabel(\"Loss\")\n",
    "plt.legend()\n",
    "plt.show()"
   ]
  },
  {
   "cell_type": "code",
   "execution_count": 22,
   "id": "spectacular-intensity",
   "metadata": {},
   "outputs": [
    {
     "data": {
      "image/png": "[encoded data removed]",
      "text/plain": [
       "<Figure size 432x288 with 1 Axes>"
      ]
     },
     "metadata": {},
     "output_type": "display_data"
    }
   ],
   "source": [
    "plt.style.use(\"ggplot\")\n",
    "plt.figure()\n",
    "plt.plot(np.arange(0, ep), h.history[\"accuracy\"], label=\"accuracy\")\n",
    "plt.plot(np.arange(0, ep), h.history[\"val_accuracy\"], label=\"val_acc\")\n",
    "plt.title(\"Accuracy Graphs\")\n",
    "plt.xlabel(\"Epoch #\")\n",
    "plt.ylabel(\"ACC\")\n",
    "plt.legend()\n",
    "plt.show()"
   ]
  },
  {
   "cell_type": "code",
   "execution_count": null,
   "id": "fancy-bulgaria",
   "metadata": {},
   "outputs": [],
   "source": [
    "# input_dir = 'Training data3/train/data'\n",
    "# ref_dir = 'Training data3/train/ref'\n",
    "# X,Y,QRS = loaddata2(input_dir, ref_dir)\n",
    "# X_rev = X * -1\n",
    "# X = np.concatenate((X,X_rev), axis=-1)\n",
    "# #x_train, x_test, y_train, y_test, QRS_train, QRS_test = train_test_split(X, Y, QRS, test_size=0.20, random_state=7)\n",
    "# # K-Folds\n",
    "# flods = 5\n",
    "# # fold for pre-test. range: 0:flods-1\n",
    "# selected_flod = 1\n",
    "\n",
    "# #--------------------------------------------------------------------------\n",
    "# # K-fold cross validation test harness\n",
    "# #--------------------------------------------------------------------------\n",
    "# if _name_ == '_main_':\n",
    "#     print('Cross validating...')\n",
    "#     kfold = KFold(n_splits=flods, shuffle = True, random_state = 7)\n",
    "#     cvscores_dnn = []\n",
    "\n",
    "#     fold_id = -1\n",
    "#     for train, test in kfold.split(X):\n",
    "\n",
    "#         # only run the selected fold\n",
    "#         fold_id+=1\n",
    "# #         if fold_id != selected_flod:\n",
    "# #             continue\n",
    "#         x_train = X[train]\n",
    "#         y_train = Y[train]\n",
    "#         x_test =  X[test]\n",
    "#         y_test =  Y[test]\n",
    "#         QRS_test = itemgetter(*test)(QRS)\n",
    "#         # load model\n",
    "#         model_structure_file = 'model_unet_lstm2_unique_shuffle_2channel_newdata3_segment_MITDB_pretrain_10s_10early_4s_Score.json'\n",
    "#         model_weights_file = 'best_unet_lstm2_unique_shuffle_2channel_2000_newdata3_model_segment_MITDB_pretrain_10s_10early_4s_Score_'+str(fold_id)+'.model'\n",
    "\n",
    "#         json_file = open(model_structure_file, 'r')  \n",
    "#         loaded_model_json = json_file.read()  \n",
    "#         json_file.close()  \n",
    "#         model = model_from_json(loaded_model_json)\n",
    "#         model.load_weights(model_weights_file)\n",
    "#         print('#########################')\n",
    "#         for i in range(1,10):\n",
    "#             mean_score = score_model(model, x_test, QRS_test, i/10.0)\n",
    "#             print('%f: %f' % (i/10.0, mean_score))"
   ]
  }
 ],
 "metadata": {
  "kernelspec": {
   "display_name": "Python 3",
   "language": "python",
   "name": "python3"
  },
  "language_info": {
   "codemirror_mode": {
    "name": "ipython",
    "version": 3
   },
   "file_extension": ".py",
   "mimetype": "text/x-python",
   "name": "python",
   "nbconvert_exporter": "python",
   "pygments_lexer": "ipython3",
   "version": "3.8.5"
  }
 },
 "nbformat": 4,
 "nbformat_minor": 5
}
